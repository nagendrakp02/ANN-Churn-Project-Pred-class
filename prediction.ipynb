{
 "cells": [
  {
   "cell_type": "code",
   "execution_count": 5,
   "metadata": {},
   "outputs": [],
   "source": [
    "import tensorflow as tf\n",
    "from tensorflow.keras.models import load_model\n",
    "import pickle\n",
    "import pandas as pd\n",
    "import numpy as np"
   ]
  },
  {
   "cell_type": "code",
   "execution_count": 7,
   "metadata": {},
   "outputs": [
    {
     "name": "stderr",
     "output_type": "stream",
     "text": [
      "WARNING:absl:Compiled the loaded model, but the compiled metrics have yet to be built. `model.compile_metrics` will be empty until you train or evaluate the model.\n"
     ]
    }
   ],
   "source": [
    "## Load trained model, scaler, one hot \n",
    "\n",
    "model=load_model('model.h5')\n",
    "\n",
    "with open('scaler.pkl','rb') as file:\n",
    "    label_encoder_model=pickle.load(file)\n",
    "\n",
    "with open('label_encoder.pkl','rb') as file:\n",
    "    label_encoder_model=pickle.load(file)\n",
    "\n",
    "with open('one_hot_encoder.pkl','rb') as file:\n",
    "    label_encoder_model=pickle.load(file)\n"
   ]
  },
  {
   "cell_type": "code",
   "execution_count": 8,
   "metadata": {},
   "outputs": [],
   "source": [
    "# Example input data\n",
    "\n",
    "input_data = {\n",
    "    \n",
    "    'CreditScore': 600,\n",
    "\n",
    "    'Geography': 'France',\n",
    "\n",
    "    'Gender': 'Male',\n",
    "\n",
    "    'Age': 40,\n",
    "\n",
    "    'Tenure': 3,\n",
    "\n",
    "    'Balance': 60000,\n",
    "\n",
    "    'NumOfProducts': 2,\n",
    "\n",
    "    'HasCrCard': 1,\n",
    "\n",
    "    'IsActiveMember': 1,\n",
    "\n",
    "    'EstimatedSalary': 50000\n",
    "\n",
    "}"
   ]
  },
  {
   "cell_type": "code",
   "execution_count": null,
   "metadata": {},
   "outputs": [],
   "source": []
  }
 ],
 "metadata": {
  "kernelspec": {
   "display_name": "Python 3",
   "language": "python",
   "name": "python3"
  },
  "language_info": {
   "codemirror_mode": {
    "name": "ipython",
    "version": 3
   },
   "file_extension": ".py",
   "mimetype": "text/x-python",
   "name": "python",
   "nbconvert_exporter": "python",
   "pygments_lexer": "ipython3",
   "version": "3.11.0"
  }
 },
 "nbformat": 4,
 "nbformat_minor": 2
}
